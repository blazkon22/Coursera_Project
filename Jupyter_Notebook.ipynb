{
 "cells": [
  {
   "cell_type": "markdown",
   "id": "9c5e64dc-2bc7-4640-9b71-877eda7b6100",
   "metadata": {},
   "source": [
    "<center>\n",
    "    <img src=\"https://cf-courses-data.s3.us.cloud-object-storage.appdomain.cloud/IBMDeveloperSkillsNetwork-DS0105EN-SkillsNetwork/labs/Module2/images/SN_web_lightmode.png\" width=\"300\" alt=\"cognitiveclass.ai logo\">\n",
    "</center>\n"
   ]
  },
  {
   "cell_type": "markdown",
   "id": "bca0d27a-24c6-4c43-b116-c73c8d9ab219",
   "metadata": {},
   "source": [
    "# Hands-on Lab: Create your Jupyter Notebook\n"
   ]
  },
  {
   "cell_type": "markdown",
   "id": "8b126e2f-912e-42e0-8d57-43862ac465fc",
   "metadata": {},
   "source": [
    "#### Add your code below following the instructions given in the course\n"
   ]
  },
  {
   "cell_type": "markdown",
   "metadata": {},
   "source": [
    "## Notebook Title"
   ]
  },
  {
   "cell_type": "markdown",
   "metadata": {},
   "source": [
    "### Welcome to my project!"
   ]
  },
  {
   "cell_type": "markdown",
   "metadata": {},
   "source": [
    "### Programming languages in Data Science:\n",
    "- Python  \n",
    "- R  \n",
    "- SQL  \n",
    "- Julia  \n",
    "- Scala"
   ]
  },
  {
   "cell_type": "markdown",
   "metadata": {},
   "source": [
    "### Libraries used in Data Science:\n",
    "- NumPy  \n",
    "- pandas  \n",
    "- Matplotlib  \n",
    "- scikit-learn  \n",
    "- TensorFlow  \n",
    "- PyTorch  \n",
    "- seaborn\n"
   ]
  },
  {
   "cell_type": "markdown",
   "metadata": {},
   "source": [
    "### Tools used in Data Science\n",
    "\n",
    "| Tool        | Description                                   |\n",
    "|------------------|-------------------------------------------|\n",
    "| Jupyter Notebook | Data analysis |\n",
    "| Google Colab     | Cloud Python environment  |\n",
    "| Tableau          | Data visualization tool         |\n",
    "| Power BI         | Business analysis platform         |\n",
    "| Git              | Version control system                   |\n"
   ]
  },
  {
   "cell_type": "markdown",
   "metadata": {},
   "source": [
    "### Arithmetic examples:\n",
    "- `2 + 3 = 5`  \n",
    "- `7 - 4 = 3`  \n",
    "- `5 * 6 = 30`  \n",
    "- `8 / 2 = 4.0`  \n",
    "- `(3 + 2) * 4 = 20`"
   ]
  },
  {
   "cell_type": "code",
   "execution_count": 9,
   "metadata": {},
   "outputs": [
    {
     "name": "stdout",
     "output_type": "stream",
     "text": [
      "Adding: 6\n",
      "Multiplying: 8\n"
     ]
    }
   ],
   "source": [
    "a = 2\n",
    "b = 4\n",
    "adding = a+b\n",
    "multiplying = a*b\n",
    "print(\"Adding:\", adding)\n",
    "print(\"Multiplying:\", multiplying)"
   ]
  },
  {
   "cell_type": "code",
   "execution_count": 10,
   "metadata": {},
   "outputs": [
    {
     "name": "stdout",
     "output_type": "stream",
     "text": [
      "Minutes: 160\n",
      "Hours 2 Minutes 40\n"
     ]
    }
   ],
   "source": [
    "minutes = 160\n",
    "hours = minutes//60\n",
    "print(\"Minutes:\", minutes)\n",
    "print(\"Hours\", hours, \"Minutes\", minutes%60)"
   ]
  },
  {
   "cell_type": "markdown",
   "metadata": {},
   "source": [
    "### Objectives of Learning Data Science:\n",
    "- Understand the basics of data analysis  \n",
    "- Master programming languages used in data science  \n",
    "- Learn to use libraries for data analysis and visualization  \n",
    "- Apply machine learning algorithms in practice  \n",
    "- Work with large datasets (big data)  \n",
    "- Create clear reports and visualizations"
   ]
  },
  {
   "cell_type": "markdown",
   "metadata": {},
   "source": [
    "### Błażej Konwant"
   ]
  },
  {
   "cell_type": "markdown",
   "metadata": {},
   "source": [
    "Copyright ©2024 IBM Corporation. All rights reserved.\n"
   ]
  }
 ],
 "metadata": {
  "kernelspec": {
   "display_name": "base",
   "language": "python",
   "name": "python3"
  },
  "language_info": {
   "codemirror_mode": {
    "name": "ipython",
    "version": 3
   },
   "file_extension": ".py",
   "mimetype": "text/x-python",
   "name": "python",
   "nbconvert_exporter": "python",
   "pygments_lexer": "ipython3",
   "version": "3.12.7"
  },
  "prev_pub_hash": "9e1985db9844176462bd1d5863048c9f3d17404bbc6a648be9084b0c42b29347"
 },
 "nbformat": 4,
 "nbformat_minor": 4
}
